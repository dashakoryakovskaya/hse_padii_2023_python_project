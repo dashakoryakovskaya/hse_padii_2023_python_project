{
 "cells": [
  {
   "cell_type": "code",
   "execution_count": 1,
   "metadata": {
    "colab": {
     "base_uri": "https://localhost:8080/",
     "height": 1000
    },
    "id": "9NdsjZOsLgj1",
    "outputId": "830ce066-e200-4fb8-b109-6c5165d041c5"
   },
   "outputs": [
    {
     "name": "stdout",
     "output_type": "stream",
     "text": [
      "Collecting etna\n",
      "  Using cached https://files.pythonhosted.org/packages/39/42/2e541e7c0ed89a1ae9a0491011628393f5cd21f30e6b3466fb57e2ad4ee8/etna-1.15.1-py3-none-any.whl\n",
      "Collecting types-Deprecated==1.2.9 (from etna)\n",
      "  Using cached https://files.pythonhosted.org/packages/f4/29/6f08e159f115104dcaeb922793ca24046630fd2891878b9dd17334bf0913/types_Deprecated-1.2.9-py3-none-any.whl\n",
      "Collecting ruptures==1.1.5 (from etna)\n",
      "  Using cached https://files.pythonhosted.org/packages/6f/c6/5d6e793e68b297c4f97d67f948446eb080755ae930b61697711da220d7b8/ruptures-1.1.5-cp37-cp37m-macosx_10_9_x86_64.whl\n",
      "Collecting typing_extensions (from etna)\n",
      "  Using cached https://files.pythonhosted.org/packages/5f/86/d9b1518d8e75b346a33eb59fa31bdbbee11459a7e2cc5be502fa779e96c5/typing_extensions-4.6.3-py3-none-any.whl\n",
      "Collecting hydra-slayer<0.3.0,>=0.2.0 (from etna)\n",
      "  Using cached https://files.pythonhosted.org/packages/3d/63/2fb2561765258916cad2afc5bb5b40e3e2c057d29396901958a2448a5d12/hydra_slayer-0.2.0-py3-none-any.whl\n",
      "Requirement already satisfied: numpy in /Users/nad/opt/anaconda3/lib/python3.7/site-packages (from etna) (1.17.2)\n",
      "Collecting Deprecated==1.2.13 (from etna)\n",
      "  Using cached https://files.pythonhosted.org/packages/51/6a/c3a0408646408f7283b7bc550c30a32cc791181ec4618592eec13e066ce3/Deprecated-1.2.13-py2.py3-none-any.whl\n",
      "Collecting loguru<0.6.0,>=0.5.3 (from etna)\n",
      "  Using cached https://files.pythonhosted.org/packages/6d/48/0a7d5847e3de329f1d0134baf707b689700b53bd3066a5a8cfd94b3c9fc8/loguru-0.5.3-py3-none-any.whl\n",
      "Collecting seaborn<0.12.0,>=0.11.1 (from etna)\n",
      "  Using cached https://files.pythonhosted.org/packages/10/5b/0479d7d845b5ba410ca702ffcd7f2cd95a14a4dfff1fde2637802b258b9b/seaborn-0.11.2-py3-none-any.whl\n",
      "Collecting catboost>=0.21 (from etna)\n",
      "  Using cached https://files.pythonhosted.org/packages/8c/d5/d689925ae9d7bc86e12fd94e606445b8f802c25b9f8cdf7edda0c7641bf5/catboost-1.2.tar.gz\n",
      "  Installing build dependencies ... \u001b[?25ldone\n",
      "\u001b[?25h  Getting requirements to build wheel ... \u001b[?25ldone\n",
      "\u001b[?25h    Preparing wheel metadata ... \u001b[?25ldone\n",
      "\u001b[?25hCollecting dill<0.4.0,>=0.3.4 (from etna)\n",
      "  Using cached https://files.pythonhosted.org/packages/be/e3/a84bf2e561beed15813080d693b4b27573262433fced9c1d1fea59e60553/dill-0.3.6-py3-none-any.whl\n",
      "Collecting scikit-learn<2,>=0.24 (from etna)\n",
      "  Using cached https://files.pythonhosted.org/packages/f8/74/273c03e5a3b9aa0881812dd36c3f5a25f92177c96219d1d110ed96673a34/scikit_learn-1.0.2-cp37-cp37m-macosx_10_13_x86_64.whl\n",
      "Collecting boto3<2.0,>=1.5 (from etna)\n",
      "  Using cached https://files.pythonhosted.org/packages/60/07/c2575191ee209945cb542ff3ec0dd7382d1c656b35440df96c9b83cbb657/boto3-1.26.151-py3-none-any.whl\n",
      "Collecting typer<0.5.0,>=0.4.0 (from etna)\n",
      "  Using cached https://files.pythonhosted.org/packages/9d/ea/b565bc44a1af5278ef2ff9d571cdb4f4bc31fd450b0630441c93401c243c/typer-0.4.2-py3-none-any.whl\n",
      "Requirement already satisfied: joblib in /Users/nad/opt/anaconda3/lib/python3.7/site-packages (from etna) (0.13.2)\n",
      "Collecting pandas<2,>=1 (from etna)\n",
      "  Using cached https://files.pythonhosted.org/packages/44/d9/fa9cb383b482b574e6926eabc437fe57b59908a7ed940612c8c308471872/pandas-1.3.5-cp37-cp37m-macosx_10_9_x86_64.whl\n",
      "Requirement already satisfied: matplotlib in /Users/nad/opt/anaconda3/lib/python3.7/site-packages (from etna) (3.1.1)\n",
      "Collecting botocore (from etna)\n",
      "  Using cached https://files.pythonhosted.org/packages/30/d6/d56ca501f4ddf25eddefda82976df0e15449291415bc9420ef035dbf8411/botocore-1.29.151-py3-none-any.whl\n",
      "Collecting holidays<0.14,>=0.13 (from etna)\n",
      "  Using cached https://files.pythonhosted.org/packages/19/6d/e731397fddee7aaaf87eb8b11f93b0dc71e242c4039664984943f133dc2a/holidays-0.13-py3-none-any.whl\n",
      "Requirement already satisfied: scipy<1.8.0 in /Users/nad/opt/anaconda3/lib/python3.7/site-packages (from etna) (1.3.1)\n",
      "Collecting plotly (from etna)\n",
      "  Using cached https://files.pythonhosted.org/packages/a5/07/5bef9376c975ce23306d9217ab69ca94c07f2a3c90b17c03e3ae4db87170/plotly-5.15.0-py2.py3-none-any.whl\n",
      "Collecting numba<0.56.0,>=0.53.1 (from etna)\n",
      "  Using cached https://files.pythonhosted.org/packages/1e/e1/5712270ab8749ff1fe4d3b8e9398cfaa51d1334caf60b6348f7619b1d6be/numba-0.55.2-cp37-cp37m-macosx_10_14_x86_64.whl\n",
      "Collecting statsmodels<0.14,>=0.12 (from etna)\n",
      "  Using cached https://files.pythonhosted.org/packages/f5/9f/bf8714c28c566da38080c2ae7602a85bb3cdbd99c8974c166bfe5ce5a1bf/statsmodels-0.13.5-cp37-cp37m-macosx_10_9_x86_64.whl\n",
      "Collecting ipywidgets<8.0.0,>=7.6.5 (from etna)\n",
      "  Using cached https://files.pythonhosted.org/packages/34/65/e97c8528ce10091a7467fe82ade2d101270a233b9fb7324012ed0ebd0586/ipywidgets-7.7.5-py2.py3-none-any.whl\n",
      "Collecting toml<0.11.0,>=0.10.2 (from etna)\n",
      "  Using cached https://files.pythonhosted.org/packages/44/6f/7120676b6d73228c96e17f1f794d8ab046fc910d781c8d151120c3f1569e/toml-0.10.2-py2.py3-none-any.whl\n",
      "Collecting Bottleneck<2.0.0,>=1.3.4 (from etna)\n",
      "  Using cached https://files.pythonhosted.org/packages/12/70/1ff4c791d4df8f959e57a096e8908302c01ffb2b1285ee9be0ded544bc31/Bottleneck-1.3.7-cp37-cp37m-macosx_10_9_x86_64.whl\n",
      "Collecting tbats<2.0.0,>=1.1.0 (from etna)\n",
      "  Using cached https://files.pythonhosted.org/packages/63/94/1949dc644c3fa05b736b988dc8058122f8c0187778ff9f18070bce2d4ddd/tbats-1.1.3-py3-none-any.whl\n",
      "Collecting pmdarima>=1.8.0 (from etna)\n",
      "  Using cached https://files.pythonhosted.org/packages/3e/4b/9c22a06ee204938f5e20bd0212f6f05aac718fc744a11a974ef8fa5cf677/pmdarima-2.0.3-cp37-cp37m-macosx_10_9_x86_64.whl\n",
      "Collecting omegaconf<3.0.0,>=2.1.1 (from etna)\n",
      "  Using cached https://files.pythonhosted.org/packages/e3/94/1843518e420fa3ed6919835845df698c7e27e183cb997394e4a670973a65/omegaconf-2.3.0-py3-none-any.whl\n",
      "Requirement already satisfied: wrapt<2,>=1.10 in /Users/nad/opt/anaconda3/lib/python3.7/site-packages (from Deprecated==1.2.13->etna) (1.11.2)\n",
      "Collecting graphviz (from catboost>=0.21->etna)\n",
      "  Using cached https://files.pythonhosted.org/packages/de/5e/fcbb22c68208d39edff467809d06c9d81d7d27426460ebc598e55130c1aa/graphviz-0.20.1-py3-none-any.whl\n",
      "Requirement already satisfied: six in /Users/nad/opt/anaconda3/lib/python3.7/site-packages (from catboost>=0.21->etna) (1.12.0)\n",
      "Collecting threadpoolctl>=2.0.0 (from scikit-learn<2,>=0.24->etna)\n",
      "  Using cached https://files.pythonhosted.org/packages/61/cf/6e354304bcb9c6413c4e02a747b600061c21d38ba51e7e544ac7bc66aecc/threadpoolctl-3.1.0-py3-none-any.whl\n",
      "Collecting jmespath<2.0.0,>=0.7.1 (from boto3<2.0,>=1.5->etna)\n",
      "  Using cached https://files.pythonhosted.org/packages/31/b4/b9b800c45527aadd64d5b442f9b932b00648617eb5d63d2c7a6587b7cafc/jmespath-1.0.1-py3-none-any.whl\n",
      "Collecting s3transfer<0.7.0,>=0.6.0 (from boto3<2.0,>=1.5->etna)\n",
      "  Using cached https://files.pythonhosted.org/packages/ec/fa/9416461ee05efabe477d588288bdd88acb69a51ee4b31a9b73d3b5b716fc/s3transfer-0.6.1-py3-none-any.whl\n",
      "Collecting click<9.0.0,>=7.1.1 (from typer<0.5.0,>=0.4.0->etna)\n",
      "  Using cached https://files.pythonhosted.org/packages/c2/f1/df59e28c642d583f7dacffb1e0965d0e00b218e0186d7858ac5233dce840/click-8.1.3-py3-none-any.whl\n",
      "Requirement already satisfied: python-dateutil>=2.7.3 in /Users/nad/opt/anaconda3/lib/python3.7/site-packages (from pandas<2,>=1->etna) (2.8.0)\n",
      "Requirement already satisfied: pytz>=2017.3 in /Users/nad/opt/anaconda3/lib/python3.7/site-packages (from pandas<2,>=1->etna) (2019.3)\n",
      "Requirement already satisfied: cycler>=0.10 in /Users/nad/opt/anaconda3/lib/python3.7/site-packages (from matplotlib->etna) (0.10.0)\n",
      "Requirement already satisfied: kiwisolver>=1.0.1 in /Users/nad/opt/anaconda3/lib/python3.7/site-packages (from matplotlib->etna) (1.1.0)\n",
      "Requirement already satisfied: pyparsing!=2.0.4,!=2.1.2,!=2.1.6,>=2.0.1 in /Users/nad/opt/anaconda3/lib/python3.7/site-packages (from matplotlib->etna) (2.4.2)\n",
      "Collecting urllib3<1.27,>=1.25.4 (from botocore->etna)\n",
      "  Using cached https://files.pythonhosted.org/packages/c5/05/c214b32d21c0b465506f95c4f28ccbcba15022e000b043b72b3df7728471/urllib3-1.26.16-py2.py3-none-any.whl\n",
      "Collecting hijri-converter (from holidays<0.14,>=0.13->etna)\n",
      "  Using cached https://files.pythonhosted.org/packages/4a/cf/7bd8c3a8d1b8290cf11398439bcf30b9fb10dfe8247202edeaeea9cbdd5a/hijri_converter-2.3.1-py3-none-any.whl\n",
      "Collecting korean-lunar-calendar (from holidays<0.14,>=0.13->etna)\n"
     ]
    },
    {
     "name": "stdout",
     "output_type": "stream",
     "text": [
      "  Using cached https://files.pythonhosted.org/packages/9c/96/30f3fe51b336bb6da4714f4fdad7bbdce8f13af79af2eb75e22908f3f9f4/korean_lunar_calendar-0.3.1-py3-none-any.whl\n",
      "Collecting convertdate>=2.3.0 (from holidays<0.14,>=0.13->etna)\n",
      "  Using cached https://files.pythonhosted.org/packages/27/65/3deecc820ce91716225ec72b584b48ba9512ed9583ad48619e3dbbbbd714/convertdate-2.4.0-py3-none-any.whl\n",
      "Requirement already satisfied: packaging in /Users/nad/opt/anaconda3/lib/python3.7/site-packages (from plotly->etna) (19.2)\n",
      "Collecting tenacity>=6.2.0 (from plotly->etna)\n",
      "  Using cached https://files.pythonhosted.org/packages/e7/b0/c23bd61e1b32c9b96fbca996c87784e196a812da8d621d8d04851f6c8181/tenacity-8.2.2-py3-none-any.whl\n",
      "Requirement already satisfied: setuptools in /Users/nad/opt/anaconda3/lib/python3.7/site-packages (from numba<0.56.0,>=0.53.1->etna) (41.4.0)\n",
      "Collecting llvmlite<0.39,>=0.38.0rc1 (from numba<0.56.0,>=0.53.1->etna)\n",
      "  Using cached https://files.pythonhosted.org/packages/cd/b3/ef391866c48f594c3a710101c691a6346645d7d14d7c751b37cbaabcdd3d/llvmlite-0.38.1-cp37-cp37m-macosx_10_9_x86_64.whl\n",
      "Collecting patsy>=0.5.2 (from statsmodels<0.14,>=0.12->etna)\n",
      "  Using cached https://files.pythonhosted.org/packages/2a/e4/b3263b0e353f2be7b14f044d57874490c9cef1798a435f038683acea5c98/patsy-0.5.3-py2.py3-none-any.whl\n",
      "Requirement already satisfied: ipykernel>=4.5.1 in /Users/nad/opt/anaconda3/lib/python3.7/site-packages (from ipywidgets<8.0.0,>=7.6.5->etna) (5.1.2)\n",
      "Collecting widgetsnbextension~=3.6.4 (from ipywidgets<8.0.0,>=7.6.5->etna)\n",
      "  Using cached https://files.pythonhosted.org/packages/20/3e/3c14aa36acbf60e72eac522b54e6b6a0fe9afadc2eb83f1733a77bbb8670/widgetsnbextension-3.6.4-py2.py3-none-any.whl\n",
      "Requirement already satisfied: traitlets>=4.3.1 in /Users/nad/opt/anaconda3/lib/python3.7/site-packages (from ipywidgets<8.0.0,>=7.6.5->etna) (4.3.3)\n",
      "Requirement already satisfied: ipython>=4.0.0; python_version >= \"3.3\" in /Users/nad/opt/anaconda3/lib/python3.7/site-packages (from ipywidgets<8.0.0,>=7.6.5->etna) (7.8.0)\n",
      "Requirement already satisfied: ipython-genutils~=0.2.0 in /Users/nad/opt/anaconda3/lib/python3.7/site-packages (from ipywidgets<8.0.0,>=7.6.5->etna) (0.2.0)\n",
      "Collecting jupyterlab-widgets<3,>=1.0.0; python_version >= \"3.6\" (from ipywidgets<8.0.0,>=7.6.5->etna)\n",
      "  Using cached https://files.pythonhosted.org/packages/47/78/b8db068414b354da1abd01dfc2326b8b3123d334173683941a075d36e3da/jupyterlab_widgets-1.1.4-py3-none-any.whl\n",
      "Requirement already satisfied: Cython!=0.29.18,!=0.29.31,>=0.29 in /Users/nad/opt/anaconda3/lib/python3.7/site-packages (from pmdarima>=1.8.0->etna) (0.29.13)\n",
      "Requirement already satisfied: PyYAML>=5.1.0 in /Users/nad/opt/anaconda3/lib/python3.7/site-packages (from omegaconf<3.0.0,>=2.1.1->etna) (5.1.2)\n",
      "Collecting antlr4-python3-runtime==4.9.* (from omegaconf<3.0.0,>=2.1.1->etna)\n",
      "Requirement already satisfied: importlib-metadata; python_version < \"3.8\" in /Users/nad/opt/anaconda3/lib/python3.7/site-packages (from click<9.0.0,>=7.1.1->typer<0.5.0,>=0.4.0->etna) (0.23)\n",
      "Collecting pymeeus<=1,>=0.3.13 (from convertdate>=2.3.0->holidays<0.14,>=0.13->etna)\n",
      "Requirement already satisfied: tornado>=4.2 in /Users/nad/opt/anaconda3/lib/python3.7/site-packages (from ipykernel>=4.5.1->ipywidgets<8.0.0,>=7.6.5->etna) (6.0.3)\n",
      "Requirement already satisfied: jupyter-client in /Users/nad/opt/anaconda3/lib/python3.7/site-packages (from ipykernel>=4.5.1->ipywidgets<8.0.0,>=7.6.5->etna) (5.3.3)\n",
      "Requirement already satisfied: notebook>=4.4.1 in /Users/nad/opt/anaconda3/lib/python3.7/site-packages (from widgetsnbextension~=3.6.4->ipywidgets<8.0.0,>=7.6.5->etna) (6.0.1)\n",
      "Requirement already satisfied: decorator in /Users/nad/opt/anaconda3/lib/python3.7/site-packages (from traitlets>=4.3.1->ipywidgets<8.0.0,>=7.6.5->etna) (4.4.0)\n",
      "Requirement already satisfied: pickleshare in /Users/nad/opt/anaconda3/lib/python3.7/site-packages (from ipython>=4.0.0; python_version >= \"3.3\"->ipywidgets<8.0.0,>=7.6.5->etna) (0.7.5)\n",
      "Requirement already satisfied: backcall in /Users/nad/opt/anaconda3/lib/python3.7/site-packages (from ipython>=4.0.0; python_version >= \"3.3\"->ipywidgets<8.0.0,>=7.6.5->etna) (0.1.0)\n",
      "Requirement already satisfied: prompt-toolkit<2.1.0,>=2.0.0 in /Users/nad/opt/anaconda3/lib/python3.7/site-packages (from ipython>=4.0.0; python_version >= \"3.3\"->ipywidgets<8.0.0,>=7.6.5->etna) (2.0.10)\n",
      "Requirement already satisfied: appnope; sys_platform == \"darwin\" in /Users/nad/opt/anaconda3/lib/python3.7/site-packages (from ipython>=4.0.0; python_version >= \"3.3\"->ipywidgets<8.0.0,>=7.6.5->etna) (0.1.0)\n",
      "Requirement already satisfied: pexpect; sys_platform != \"win32\" in /Users/nad/opt/anaconda3/lib/python3.7/site-packages (from ipython>=4.0.0; python_version >= \"3.3\"->ipywidgets<8.0.0,>=7.6.5->etna) (4.7.0)\n",
      "Requirement already satisfied: jedi>=0.10 in /Users/nad/opt/anaconda3/lib/python3.7/site-packages (from ipython>=4.0.0; python_version >= \"3.3\"->ipywidgets<8.0.0,>=7.6.5->etna) (0.15.1)\n",
      "Requirement already satisfied: pygments in /Users/nad/opt/anaconda3/lib/python3.7/site-packages (from ipython>=4.0.0; python_version >= \"3.3\"->ipywidgets<8.0.0,>=7.6.5->etna) (2.4.2)\n",
      "Requirement already satisfied: zipp>=0.5 in /Users/nad/opt/anaconda3/lib/python3.7/site-packages (from importlib-metadata; python_version < \"3.8\"->click<9.0.0,>=7.1.1->typer<0.5.0,>=0.4.0->etna) (0.6.0)\n",
      "Requirement already satisfied: pyzmq>=13 in /Users/nad/opt/anaconda3/lib/python3.7/site-packages (from jupyter-client->ipykernel>=4.5.1->ipywidgets<8.0.0,>=7.6.5->etna) (18.1.0)\n",
      "Requirement already satisfied: jupyter-core in /Users/nad/opt/anaconda3/lib/python3.7/site-packages (from jupyter-client->ipykernel>=4.5.1->ipywidgets<8.0.0,>=7.6.5->etna) (4.5.0)\n",
      "Requirement already satisfied: nbformat in /Users/nad/opt/anaconda3/lib/python3.7/site-packages (from notebook>=4.4.1->widgetsnbextension~=3.6.4->ipywidgets<8.0.0,>=7.6.5->etna) (4.4.0)\n",
      "Requirement already satisfied: terminado>=0.8.1 in /Users/nad/opt/anaconda3/lib/python3.7/site-packages (from notebook>=4.4.1->widgetsnbextension~=3.6.4->ipywidgets<8.0.0,>=7.6.5->etna) (0.8.2)\n",
      "Requirement already satisfied: Send2Trash in /Users/nad/opt/anaconda3/lib/python3.7/site-packages (from notebook>=4.4.1->widgetsnbextension~=3.6.4->ipywidgets<8.0.0,>=7.6.5->etna) (1.5.0)\n",
      "Requirement already satisfied: jinja2 in /Users/nad/opt/anaconda3/lib/python3.7/site-packages (from notebook>=4.4.1->widgetsnbextension~=3.6.4->ipywidgets<8.0.0,>=7.6.5->etna) (2.10.3)\n",
      "Requirement already satisfied: nbconvert in /Users/nad/opt/anaconda3/lib/python3.7/site-packages (from notebook>=4.4.1->widgetsnbextension~=3.6.4->ipywidgets<8.0.0,>=7.6.5->etna) (5.6.0)\n",
      "Requirement already satisfied: prometheus-client in /Users/nad/opt/anaconda3/lib/python3.7/site-packages (from notebook>=4.4.1->widgetsnbextension~=3.6.4->ipywidgets<8.0.0,>=7.6.5->etna) (0.7.1)\n",
      "Requirement already satisfied: wcwidth in /Users/nad/opt/anaconda3/lib/python3.7/site-packages (from prompt-toolkit<2.1.0,>=2.0.0->ipython>=4.0.0; python_version >= \"3.3\"->ipywidgets<8.0.0,>=7.6.5->etna) (0.1.7)\n",
      "Requirement already satisfied: ptyprocess>=0.5 in /Users/nad/opt/anaconda3/lib/python3.7/site-packages (from pexpect; sys_platform != \"win32\"->ipython>=4.0.0; python_version >= \"3.3\"->ipywidgets<8.0.0,>=7.6.5->etna) (0.6.0)\n",
      "Requirement already satisfied: parso>=0.5.0 in /Users/nad/opt/anaconda3/lib/python3.7/site-packages (from jedi>=0.10->ipython>=4.0.0; python_version >= \"3.3\"->ipywidgets<8.0.0,>=7.6.5->etna) (0.5.1)\n",
      "Requirement already satisfied: more-itertools in /Users/nad/opt/anaconda3/lib/python3.7/site-packages (from zipp>=0.5->importlib-metadata; python_version < \"3.8\"->click<9.0.0,>=7.1.1->typer<0.5.0,>=0.4.0->etna) (7.2.0)\n",
      "Requirement already satisfied: jsonschema!=2.5.0,>=2.4 in /Users/nad/opt/anaconda3/lib/python3.7/site-packages (from nbformat->notebook>=4.4.1->widgetsnbextension~=3.6.4->ipywidgets<8.0.0,>=7.6.5->etna) (3.0.2)\n",
      "Requirement already satisfied: MarkupSafe>=0.23 in /Users/nad/opt/anaconda3/lib/python3.7/site-packages (from jinja2->notebook>=4.4.1->widgetsnbextension~=3.6.4->ipywidgets<8.0.0,>=7.6.5->etna) (1.1.1)\n",
      "Requirement already satisfied: pandocfilters>=1.4.1 in /Users/nad/opt/anaconda3/lib/python3.7/site-packages (from nbconvert->notebook>=4.4.1->widgetsnbextension~=3.6.4->ipywidgets<8.0.0,>=7.6.5->etna) (1.4.2)\n",
      "Requirement already satisfied: defusedxml in /Users/nad/opt/anaconda3/lib/python3.7/site-packages (from nbconvert->notebook>=4.4.1->widgetsnbextension~=3.6.4->ipywidgets<8.0.0,>=7.6.5->etna) (0.6.0)\n"
     ]
    },
    {
     "name": "stdout",
     "output_type": "stream",
     "text": [
      "Requirement already satisfied: bleach in /Users/nad/opt/anaconda3/lib/python3.7/site-packages (from nbconvert->notebook>=4.4.1->widgetsnbextension~=3.6.4->ipywidgets<8.0.0,>=7.6.5->etna) (3.1.0)\n",
      "Requirement already satisfied: testpath in /Users/nad/opt/anaconda3/lib/python3.7/site-packages (from nbconvert->notebook>=4.4.1->widgetsnbextension~=3.6.4->ipywidgets<8.0.0,>=7.6.5->etna) (0.4.2)\n",
      "Requirement already satisfied: mistune<2,>=0.8.1 in /Users/nad/opt/anaconda3/lib/python3.7/site-packages (from nbconvert->notebook>=4.4.1->widgetsnbextension~=3.6.4->ipywidgets<8.0.0,>=7.6.5->etna) (0.8.4)\n",
      "Requirement already satisfied: entrypoints>=0.2.2 in /Users/nad/opt/anaconda3/lib/python3.7/site-packages (from nbconvert->notebook>=4.4.1->widgetsnbextension~=3.6.4->ipywidgets<8.0.0,>=7.6.5->etna) (0.3)\n",
      "Requirement already satisfied: pyrsistent>=0.14.0 in /Users/nad/opt/anaconda3/lib/python3.7/site-packages (from jsonschema!=2.5.0,>=2.4->nbformat->notebook>=4.4.1->widgetsnbextension~=3.6.4->ipywidgets<8.0.0,>=7.6.5->etna) (0.15.4)\n",
      "Requirement already satisfied: attrs>=17.4.0 in /Users/nad/opt/anaconda3/lib/python3.7/site-packages (from jsonschema!=2.5.0,>=2.4->nbformat->notebook>=4.4.1->widgetsnbextension~=3.6.4->ipywidgets<8.0.0,>=7.6.5->etna) (19.2.0)\n",
      "Requirement already satisfied: webencodings in /Users/nad/opt/anaconda3/lib/python3.7/site-packages (from bleach->nbconvert->notebook>=4.4.1->widgetsnbextension~=3.6.4->ipywidgets<8.0.0,>=7.6.5->etna) (0.5.1)\n",
      "Building wheels for collected packages: catboost\n",
      "  Building wheel for catboost (PEP 517) ... \u001b[?25lerror\n",
      "\u001b[31m  ERROR: Command errored out with exit status 1:\n",
      "   command: /Users/nad/opt/anaconda3/bin/python /Users/nad/opt/anaconda3/lib/python3.7/site-packages/pip/_vendor/pep517/_in_process.py build_wheel /var/folders/5l/zfycq1fs6ms6xxsg6y1qct940000gn/T/tmpdm1s95gi\n",
      "       cwd: /private/var/folders/5l/zfycq1fs6ms6xxsg6y1qct940000gn/T/pip-install-had8kvm6/catboost\n",
      "  Complete output (97 lines):\n",
      "  running bdist_wheel\n",
      "  running build\n",
      "  running build_py\n",
      "  creating build\n",
      "  creating build/lib.macosx-10.9-x86_64-cpython-37\n",
      "  creating build/lib.macosx-10.9-x86_64-cpython-37/catboost\n",
      "  copying catboost/monoforest.py -> build/lib.macosx-10.9-x86_64-cpython-37/catboost\n",
      "  copying catboost/plot_helpers.py -> build/lib.macosx-10.9-x86_64-cpython-37/catboost\n",
      "  copying catboost/metrics.py -> build/lib.macosx-10.9-x86_64-cpython-37/catboost\n",
      "  copying catboost/version.py -> build/lib.macosx-10.9-x86_64-cpython-37/catboost\n",
      "  copying catboost/text_processing.py -> build/lib.macosx-10.9-x86_64-cpython-37/catboost\n",
      "  copying catboost/datasets.py -> build/lib.macosx-10.9-x86_64-cpython-37/catboost\n",
      "  copying catboost/__init__.py -> build/lib.macosx-10.9-x86_64-cpython-37/catboost\n",
      "  copying catboost/core.py -> build/lib.macosx-10.9-x86_64-cpython-37/catboost\n",
      "  copying catboost/utils.py -> build/lib.macosx-10.9-x86_64-cpython-37/catboost\n",
      "  copying catboost/dev_utils.py -> build/lib.macosx-10.9-x86_64-cpython-37/catboost\n",
      "  creating build/lib.macosx-10.9-x86_64-cpython-37/catboost/widget\n",
      "  copying catboost/widget/__init__.py -> build/lib.macosx-10.9-x86_64-cpython-37/catboost/widget\n",
      "  copying catboost/widget/metrics_plotter.py -> build/lib.macosx-10.9-x86_64-cpython-37/catboost/widget\n",
      "  copying catboost/widget/ipythonwidget.py -> build/lib.macosx-10.9-x86_64-cpython-37/catboost/widget\n",
      "  copying catboost/widget/callbacks.py -> build/lib.macosx-10.9-x86_64-cpython-37/catboost/widget\n",
      "  creating build/lib.macosx-10.9-x86_64-cpython-37/catboost/eval\n",
      "  copying catboost/eval/catboost_evaluation.py -> build/lib.macosx-10.9-x86_64-cpython-37/catboost/eval\n",
      "  copying catboost/eval/_fold_model.py -> build/lib.macosx-10.9-x86_64-cpython-37/catboost/eval\n",
      "  copying catboost/eval/_readers.py -> build/lib.macosx-10.9-x86_64-cpython-37/catboost/eval\n",
      "  copying catboost/eval/log_config.py -> build/lib.macosx-10.9-x86_64-cpython-37/catboost/eval\n",
      "  copying catboost/eval/_splitter.py -> build/lib.macosx-10.9-x86_64-cpython-37/catboost/eval\n",
      "  copying catboost/eval/__init__.py -> build/lib.macosx-10.9-x86_64-cpython-37/catboost/eval\n",
      "  copying catboost/eval/execution_case.py -> build/lib.macosx-10.9-x86_64-cpython-37/catboost/eval\n",
      "  copying catboost/eval/_fold_storage.py -> build/lib.macosx-10.9-x86_64-cpython-37/catboost/eval\n",
      "  copying catboost/eval/factor_utils.py -> build/lib.macosx-10.9-x86_64-cpython-37/catboost/eval\n",
      "  copying catboost/eval/utils.py -> build/lib.macosx-10.9-x86_64-cpython-37/catboost/eval\n",
      "  copying catboost/eval/evaluation_result.py -> build/lib.macosx-10.9-x86_64-cpython-37/catboost/eval\n",
      "  copying catboost/eval/_fold_models_handler.py -> build/lib.macosx-10.9-x86_64-cpython-37/catboost/eval\n",
      "  running build_ext\n",
      "  Buildling _catboost with cmake and ninja\n",
      "  target_platform=darwin-x86_64. Building targets _catboost with PIC\n",
      "  Running \"cmake /private/var/folders/5l/zfycq1fs6ms6xxsg6y1qct940000gn/T/pip-install-had8kvm6/catboost/catboost_all_src -B /private/var/folders/5l/zfycq1fs6ms6xxsg6y1qct940000gn/T/pip-install-had8kvm6/catboost/build/temp.macosx-10.9-x86_64-cpython-37 -G Ninja -DCMAKE_BUILD_TYPE=Release -DCMAKE_TOOLCHAIN_FILE=/private/var/folders/5l/zfycq1fs6ms6xxsg6y1qct940000gn/T/pip-install-had8kvm6/catboost/catboost_all_src/build/toolchains/clang.toolchain --log-level=VERBOSE -DCMAKE_POSITION_INDEPENDENT_CODE=On -DCATBOOST_COMPONENTS=python-package -DCMAKE_OSX_DEPLOYMENT_TARGET=11.0 -DHAVE_CUDA=no -DPython3_ROOT_DIR=/Users/nad/opt/anaconda3\"\n",
      "  CMake Error: CMake was unable to find a build program corresponding to \"Ninja\".  CMAKE_MAKE_PROGRAM is not set.  You probably need to select a different build tool.\n",
      "  CMake Error: CMAKE_ASM_COMPILER not set, after EnableLanguage\n",
      "  -- Configuring incomplete, errors occurred!\n",
      "  See also \"/private/var/folders/5l/zfycq1fs6ms6xxsg6y1qct940000gn/T/pip-install-had8kvm6/catboost/build/temp.macosx-10.9-x86_64-cpython-37/CMakeFiles/CMakeOutput.log\".\n",
      "  Traceback (most recent call last):\n",
      "    File \"/Users/nad/opt/anaconda3/lib/python3.7/site-packages/pip/_vendor/pep517/_in_process.py\", line 207, in <module>\n",
      "      main()\n",
      "    File \"/Users/nad/opt/anaconda3/lib/python3.7/site-packages/pip/_vendor/pep517/_in_process.py\", line 197, in main\n",
      "      json_out['return_val'] = hook(**hook_input['kwargs'])\n",
      "    File \"/Users/nad/opt/anaconda3/lib/python3.7/site-packages/pip/_vendor/pep517/_in_process.py\", line 141, in build_wheel\n",
      "      metadata_directory)\n",
      "    File \"/private/var/folders/5l/zfycq1fs6ms6xxsg6y1qct940000gn/T/pip-build-env-7gohmjxk/overlay/lib/python3.7/site-packages/setuptools/build_meta.py\", line 417, in build_wheel\n",
      "      wheel_directory, config_settings)\n",
      "    File \"/private/var/folders/5l/zfycq1fs6ms6xxsg6y1qct940000gn/T/pip-build-env-7gohmjxk/overlay/lib/python3.7/site-packages/setuptools/build_meta.py\", line 401, in _build_with_temp_dir\n",
      "      self.run_setup()\n",
      "    File \"/private/var/folders/5l/zfycq1fs6ms6xxsg6y1qct940000gn/T/pip-build-env-7gohmjxk/overlay/lib/python3.7/site-packages/setuptools/build_meta.py\", line 488, in run_setup\n",
      "      self).run_setup(setup_script=setup_script)\n",
      "    File \"/private/var/folders/5l/zfycq1fs6ms6xxsg6y1qct940000gn/T/pip-build-env-7gohmjxk/overlay/lib/python3.7/site-packages/setuptools/build_meta.py\", line 338, in run_setup\n",
      "      exec(code, locals())\n",
      "    File \"<string>\", line 773, in <module>\n",
      "    File \"/private/var/folders/5l/zfycq1fs6ms6xxsg6y1qct940000gn/T/pip-build-env-7gohmjxk/overlay/lib/python3.7/site-packages/setuptools/__init__.py\", line 107, in setup\n",
      "      return distutils.core.setup(**attrs)\n",
      "    File \"/private/var/folders/5l/zfycq1fs6ms6xxsg6y1qct940000gn/T/pip-build-env-7gohmjxk/overlay/lib/python3.7/site-packages/setuptools/_distutils/core.py\", line 185, in setup\n",
      "      return run_commands(dist)\n",
      "    File \"/private/var/folders/5l/zfycq1fs6ms6xxsg6y1qct940000gn/T/pip-build-env-7gohmjxk/overlay/lib/python3.7/site-packages/setuptools/_distutils/core.py\", line 201, in run_commands\n",
      "      dist.run_commands()\n",
      "    File \"/private/var/folders/5l/zfycq1fs6ms6xxsg6y1qct940000gn/T/pip-build-env-7gohmjxk/overlay/lib/python3.7/site-packages/setuptools/_distutils/dist.py\", line 969, in run_commands\n",
      "      self.run_command(cmd)\n",
      "    File \"/private/var/folders/5l/zfycq1fs6ms6xxsg6y1qct940000gn/T/pip-build-env-7gohmjxk/overlay/lib/python3.7/site-packages/setuptools/dist.py\", line 1244, in run_command\n",
      "      super().run_command(command)\n",
      "    File \"/private/var/folders/5l/zfycq1fs6ms6xxsg6y1qct940000gn/T/pip-build-env-7gohmjxk/overlay/lib/python3.7/site-packages/setuptools/_distutils/dist.py\", line 988, in run_command\n",
      "      cmd_obj.run()\n",
      "    File \"<string>\", line 389, in run\n",
      "    File \"/private/var/folders/5l/zfycq1fs6ms6xxsg6y1qct940000gn/T/pip-build-env-7gohmjxk/overlay/lib/python3.7/site-packages/wheel/bdist_wheel.py\", line 343, in run\n",
      "      self.run_command(\"build\")\n",
      "    File \"/private/var/folders/5l/zfycq1fs6ms6xxsg6y1qct940000gn/T/pip-build-env-7gohmjxk/overlay/lib/python3.7/site-packages/setuptools/_distutils/cmd.py\", line 318, in run_command\n",
      "      self.distribution.run_command(command)\n",
      "    File \"/private/var/folders/5l/zfycq1fs6ms6xxsg6y1qct940000gn/T/pip-build-env-7gohmjxk/overlay/lib/python3.7/site-packages/setuptools/dist.py\", line 1244, in run_command\n",
      "      super().run_command(command)\n",
      "    File \"/private/var/folders/5l/zfycq1fs6ms6xxsg6y1qct940000gn/T/pip-build-env-7gohmjxk/overlay/lib/python3.7/site-packages/setuptools/_distutils/dist.py\", line 988, in run_command\n",
      "      cmd_obj.run()\n",
      "    File \"<string>\", line 324, in run\n",
      "    File \"/private/var/folders/5l/zfycq1fs6ms6xxsg6y1qct940000gn/T/pip-build-env-7gohmjxk/overlay/lib/python3.7/site-packages/setuptools/_distutils/command/build.py\", line 131, in run\n",
      "      self.run_command(cmd_name)\n",
      "    File \"/private/var/folders/5l/zfycq1fs6ms6xxsg6y1qct940000gn/T/pip-build-env-7gohmjxk/overlay/lib/python3.7/site-packages/setuptools/_distutils/cmd.py\", line 318, in run_command\n",
      "      self.distribution.run_command(command)\n",
      "    File \"/private/var/folders/5l/zfycq1fs6ms6xxsg6y1qct940000gn/T/pip-build-env-7gohmjxk/overlay/lib/python3.7/site-packages/setuptools/dist.py\", line 1244, in run_command\n",
      "      super().run_command(command)\n",
      "    File \"/private/var/folders/5l/zfycq1fs6ms6xxsg6y1qct940000gn/T/pip-build-env-7gohmjxk/overlay/lib/python3.7/site-packages/setuptools/_distutils/dist.py\", line 988, in run_command\n",
      "      cmd_obj.run()\n",
      "    File \"<string>\", line 436, in run\n",
      "    File \"<string>\", line 464, in build_with_cmake_and_ninja\n",
      "    File \"/private/var/folders/5l/zfycq1fs6ms6xxsg6y1qct940000gn/T/pip-install-had8kvm6/catboost/catboost_all_src/build/build_native.py\", line 517, in build\n",
      "      cmd_runner.run(cmake_cmd, env=build_environ)\n",
      "    File \"/private/var/folders/5l/zfycq1fs6ms6xxsg6y1qct940000gn/T/pip-install-had8kvm6/catboost/catboost_all_src/build/build_native.py\", line 164, in run\n",
      "      subprocess.run(cmd, check=True, **subprocess_run_kwargs)\n",
      "    File \"/Users/nad/opt/anaconda3/lib/python3.7/subprocess.py\", line 487, in run\n",
      "      output=stdout, stderr=stderr)\n",
      "  subprocess.CalledProcessError: Command '['cmake', '/private/var/folders/5l/zfycq1fs6ms6xxsg6y1qct940000gn/T/pip-install-had8kvm6/catboost/catboost_all_src', '-B', '/private/var/folders/5l/zfycq1fs6ms6xxsg6y1qct940000gn/T/pip-install-had8kvm6/catboost/build/temp.macosx-10.9-x86_64-cpython-37', '-G', 'Ninja', '-DCMAKE_BUILD_TYPE=Release', '-DCMAKE_TOOLCHAIN_FILE=/private/var/folders/5l/zfycq1fs6ms6xxsg6y1qct940000gn/T/pip-install-had8kvm6/catboost/catboost_all_src/build/toolchains/clang.toolchain', '--log-level=VERBOSE', '-DCMAKE_POSITION_INDEPENDENT_CODE=On', '-DCATBOOST_COMPONENTS=python-package', '-DCMAKE_OSX_DEPLOYMENT_TARGET=11.0', '-DHAVE_CUDA=no', '-DPython3_ROOT_DIR=/Users/nad/opt/anaconda3']' returned non-zero exit status 1.\n",
      "  ----------------------------------------\u001b[0m\n",
      "\u001b[31m  ERROR: Failed building wheel for catboost\u001b[0m\n",
      "\u001b[?25h  Running setup.py clean for catboost\n"
     ]
    },
    {
     "name": "stdout",
     "output_type": "stream",
     "text": [
      "\u001b[31m  ERROR: Command errored out with exit status 1:\n",
      "   command: /Users/nad/opt/anaconda3/bin/python -u -c 'import sys, setuptools, tokenize; sys.argv[0] = '\"'\"'/private/var/folders/5l/zfycq1fs6ms6xxsg6y1qct940000gn/T/pip-install-had8kvm6/catboost/setup.py'\"'\"'; __file__='\"'\"'/private/var/folders/5l/zfycq1fs6ms6xxsg6y1qct940000gn/T/pip-install-had8kvm6/catboost/setup.py'\"'\"';f=getattr(tokenize, '\"'\"'open'\"'\"', open)(__file__);code=f.read().replace('\"'\"'\\r\\n'\"'\"', '\"'\"'\\n'\"'\"');f.close();exec(compile(code, __file__, '\"'\"'exec'\"'\"'))' clean --all\n",
      "       cwd: /private/var/folders/5l/zfycq1fs6ms6xxsg6y1qct940000gn/T/pip-install-had8kvm6/catboost\n",
      "  Complete output (45 lines):\n",
      "  /private/var/folders/5l/zfycq1fs6ms6xxsg6y1qct940000gn/T/pip-build-env-7gohmjxk/overlay/lib/python3.7/site-packages/setuptools/__init__.py:84: _DeprecatedInstaller: setuptools.installer and fetch_build_eggs are deprecated.\n",
      "  !!\n",
      "  \n",
      "          ********************************************************************************\n",
      "          Requirements should be satisfied by a PEP 517 installer.\n",
      "          If you are using pip, you can try `pip install --use-pep517`.\n",
      "          ********************************************************************************\n",
      "  \n",
      "  !!\n",
      "    dist.fetch_build_eggs(dist.setup_requires)\n",
      "  /Users/nad/opt/anaconda3/bin/python: No module named pip\n",
      "  Traceback (most recent call last):\n",
      "    File \"/private/var/folders/5l/zfycq1fs6ms6xxsg6y1qct940000gn/T/pip-build-env-7gohmjxk/overlay/lib/python3.7/site-packages/setuptools/installer.py\", line 96, in _fetch_build_egg_no_warn\n",
      "      subprocess.check_call(cmd)\n",
      "    File \"/Users/nad/opt/anaconda3/lib/python3.7/subprocess.py\", line 347, in check_call\n",
      "      raise CalledProcessError(retcode, cmd)\n",
      "  subprocess.CalledProcessError: Command '['/Users/nad/opt/anaconda3/bin/python', '-m', 'pip', '--disable-pip-version-check', 'wheel', '--no-deps', '-w', '/var/folders/5l/zfycq1fs6ms6xxsg6y1qct940000gn/T/tmplozrypwp', '--quiet', 'y-py<0.7.0,>=0.6.0']' returned non-zero exit status 1.\n",
      "  \n",
      "  The above exception was the direct cause of the following exception:\n",
      "  \n",
      "  Traceback (most recent call last):\n",
      "    File \"<string>\", line 1, in <module>\n",
      "    File \"/private/var/folders/5l/zfycq1fs6ms6xxsg6y1qct940000gn/T/pip-install-had8kvm6/catboost/setup.py\", line 773, in <module>\n",
      "      setup_requires=setup_requires,\n",
      "    File \"/private/var/folders/5l/zfycq1fs6ms6xxsg6y1qct940000gn/T/pip-build-env-7gohmjxk/overlay/lib/python3.7/site-packages/setuptools/__init__.py\", line 106, in setup\n",
      "      _install_setup_requires(attrs)\n",
      "    File \"/private/var/folders/5l/zfycq1fs6ms6xxsg6y1qct940000gn/T/pip-build-env-7gohmjxk/overlay/lib/python3.7/site-packages/setuptools/__init__.py\", line 79, in _install_setup_requires\n",
      "      _fetch_build_eggs(dist)\n",
      "    File \"/private/var/folders/5l/zfycq1fs6ms6xxsg6y1qct940000gn/T/pip-build-env-7gohmjxk/overlay/lib/python3.7/site-packages/setuptools/__init__.py\", line 84, in _fetch_build_eggs\n",
      "      dist.fetch_build_eggs(dist.setup_requires)\n",
      "    File \"/private/var/folders/5l/zfycq1fs6ms6xxsg6y1qct940000gn/T/pip-build-env-7gohmjxk/overlay/lib/python3.7/site-packages/setuptools/dist.py\", line 917, in fetch_build_eggs\n",
      "      return _fetch_build_eggs(self, requires)\n",
      "    File \"/private/var/folders/5l/zfycq1fs6ms6xxsg6y1qct940000gn/T/pip-build-env-7gohmjxk/overlay/lib/python3.7/site-packages/setuptools/installer.py\", line 41, in _fetch_build_eggs\n",
      "      replace_conflicting=True,\n",
      "    File \"/private/var/folders/5l/zfycq1fs6ms6xxsg6y1qct940000gn/T/pip-build-env-7gohmjxk/overlay/lib/python3.7/site-packages/pkg_resources/__init__.py\", line 828, in resolve\n",
      "      req, best, replace_conflicting, env, installer, required_by, to_activate\n",
      "    File \"/private/var/folders/5l/zfycq1fs6ms6xxsg6y1qct940000gn/T/pip-build-env-7gohmjxk/overlay/lib/python3.7/site-packages/pkg_resources/__init__.py\", line 864, in _resolve_dist\n",
      "      req, ws, installer, replace_conflicting=replace_conflicting\n",
      "    File \"/private/var/folders/5l/zfycq1fs6ms6xxsg6y1qct940000gn/T/pip-build-env-7gohmjxk/overlay/lib/python3.7/site-packages/pkg_resources/__init__.py\", line 1133, in best_match\n",
      "      return self.obtain(req, installer)\n",
      "    File \"/private/var/folders/5l/zfycq1fs6ms6xxsg6y1qct940000gn/T/pip-build-env-7gohmjxk/overlay/lib/python3.7/site-packages/pkg_resources/__init__.py\", line 1145, in obtain\n",
      "      return installer(requirement)\n",
      "    File \"/private/var/folders/5l/zfycq1fs6ms6xxsg6y1qct940000gn/T/pip-build-env-7gohmjxk/overlay/lib/python3.7/site-packages/setuptools/installer.py\", line 98, in _fetch_build_egg_no_warn\n",
      "      raise DistutilsError(str(e)) from e\n",
      "  distutils.errors.DistutilsError: Command '['/Users/nad/opt/anaconda3/bin/python', '-m', 'pip', '--disable-pip-version-check', 'wheel', '--no-deps', '-w', '/var/folders/5l/zfycq1fs6ms6xxsg6y1qct940000gn/T/tmplozrypwp', '--quiet', 'y-py<0.7.0,>=0.6.0']' returned non-zero exit status 1.\n",
      "  ----------------------------------------\u001b[0m\n",
      "\u001b[31m  ERROR: Failed cleaning build dir for catboost\u001b[0m\n",
      "Failed to build catboost\n",
      "\u001b[31mERROR: Could not build wheels for catboost which use PEP 517 and cannot be installed directly\u001b[0m\n"
     ]
    }
   ],
   "source": [
    "!pip install etna"
   ]
  },
  {
   "cell_type": "code",
   "execution_count": null,
   "metadata": {
    "colab": {
     "base_uri": "https://localhost:8080/"
    },
    "id": "6RkrBFiv_98q",
    "outputId": "5429c30a-1d2b-4a4d-d8fc-892f9c70336e",
    "scrolled": true
   },
   "outputs": [],
   "source": [
    "import numpy as np\n",
    "import pandas as pd\n",
    "from etna.datasets import TSDataset"
   ]
  },
  {
   "cell_type": "code",
   "execution_count": null,
   "metadata": {
    "colab": {
     "base_uri": "https://localhost:8080/"
    },
    "id": "9XTJTpcLCsnP",
    "outputId": "d63cc128-623b-4c82-d126-5e2408c34d5f",
    "scrolled": true
   },
   "outputs": [],
   "source": [
    "df_flat = pd.read_csv(\"personal_transactions.csv\")\n",
    "filtered_data = df_flat[df_flat.iloc[:, 3] == \"debit\"]\n",
    "\n",
    "# Удаление столбцов\n",
    "columns_to_drop = [1, 3, 4, 5]\n",
    "filtered_data = filtered_data.drop(filtered_data.columns[columns_to_drop], axis=1)\n",
    "\n",
    "# Назначение имен столбцам\n",
    "filtered_data.columns = ['timestamp', 'target']\n",
    "filtered_data['timestamp'] = pd.to_datetime(filtered_data['timestamp'])\n",
    "\n",
    "# Группировка данных по уникальным датам и суммирование чисел\n",
    "grouped_data = filtered_data.groupby('timestamp')['target'].sum().reset_index()\n",
    "\n",
    "# Результат\n",
    "print(grouped_data)\n",
    "\n",
    "\n"
   ]
  },
  {
   "cell_type": "code",
   "execution_count": null,
   "metadata": {
    "colab": {
     "base_uri": "https://localhost:8080/"
    },
    "id": "6PFpuNpsYvME",
    "outputId": "965aa83e-1c05-46a9-b5bc-30db32908db1"
   },
   "outputs": [],
   "source": [
    "print(grouped_data)\n",
    "grouped_data = grouped_data.set_index('timestamp')\n",
    "df_resampled = grouped_data.resample('D').fillna(method='ffill')\n",
    "df_resampled = df_resampled.reset_index()"
   ]
  },
  {
   "cell_type": "code",
   "execution_count": null,
   "metadata": {
    "colab": {
     "base_uri": "https://localhost:8080/"
    },
    "id": "9k-xJLOyInno",
    "outputId": "ef1f5a8e-2d0d-4e4a-a581-0486523c1dd6"
   },
   "outputs": [],
   "source": [
    "df_resampled[\"segment\"] = \"main\"\n",
    "# df_resampled['target'] = np.log(df_resampled['target'])\n",
    "print(df_resampled)"
   ]
  },
  {
   "cell_type": "code",
   "execution_count": null,
   "metadata": {
    "colab": {
     "base_uri": "https://localhost:8080/"
    },
    "id": "Lxm7jgw7Ei9Z",
    "outputId": "69ecfc64-0e99-4d1a-981d-0e5eb60e8f0d"
   },
   "outputs": [],
   "source": [
    "# приводим данные к ETNA-формату\n",
    "df = TSDataset.to_dataset(df_resampled)\n",
    "ts = TSDataset(df=df, freq = 'D')\n",
    "print(ts)"
   ]
  },
  {
   "cell_type": "code",
   "execution_count": null,
   "metadata": {
    "colab": {
     "base_uri": "https://localhost:8080/",
     "height": 468
    },
    "id": "joye9IfrXA9n",
    "outputId": "dcacf702-ad96-47c9-805c-8e544b93aeb1"
   },
   "outputs": [],
   "source": [
    "ts.plot()"
   ]
  },
  {
   "cell_type": "code",
   "execution_count": null,
   "metadata": {
    "colab": {
     "base_uri": "https://localhost:8080/",
     "height": 723
    },
    "id": "IUqW82PVDkQ1",
    "outputId": "6ccbcc13-6b06-45e5-d5aa-9e0fea942f85"
   },
   "outputs": [],
   "source": [
    "df = ts.to_pandas()\n",
    "df = df.reset_index()\n",
    "df.columns = ['timestamp', 'target']\n",
    "\n",
    "dates = df['timestamp']\n",
    "\n",
    "\n",
    "\n",
    "wnd_size = 5\n",
    "df['target'] = df['target'].rolling(window=wnd_size).mean()\n",
    "df = df[~np.isnan(df).any(axis=1)]\n",
    "# df['target'] = np.log(df['target'])\n",
    "# n_magnitude = 500\n",
    "# df['target'] += np.sin(df.index / 10) * n_magnitude + n_magnitude\n",
    "\n",
    "# Срез\n",
    "n_each = 4\n",
    "df = df.iloc[::n_each]\n",
    "print(df.shape)\n",
    "\n",
    "# Возвращение изначальных дат\n",
    "date_true=df['timestamp']\n",
    "df.index = range(df.shape[0])\n",
    "df['timestamp'] = dates[:df.shape[0]]\n",
    "df_tmp = df.copy()\n",
    "\n",
    "print(df)\n",
    "\n",
    "# приводим данные к ETNA-формату\n",
    "df[\"segment\"] = \"main\"\n",
    "df = TSDataset.to_dataset(df)\n",
    "ts2 = TSDataset(df=df, freq = 'D')\n",
    "ts2.plot()\n",
    "\n",
    "\n",
    "tmp = int(df_tmp.shape[0]/2)\n",
    "train_ts, test_ts = ts2.train_test_split(\n",
    "    train_start=df_tmp['timestamp'][0],\n",
    "    train_end=df_tmp['timestamp'][tmp],\n",
    "    test_start=df_tmp['timestamp'][tmp+1],\n",
    "    test_end=df_tmp['timestamp'][df_tmp.shape[0]-1],\n",
    ")\n"
   ]
  },
  {
   "cell_type": "code",
   "execution_count": null,
   "metadata": {
    "colab": {
     "base_uri": "https://localhost:8080/",
     "height": 1000
    },
    "id": "3yNJVJWF5VS6",
    "outputId": "df4abba9-3105-4168-cdb3-1632882920c3"
   },
   "outputs": [],
   "source": [
    "from etna.models import SARIMAXModel\n",
    "from etna.analysis import plot_forecast\n",
    "\n",
    "# Choose a horizon\n",
    "HORIZON = 79\n",
    "\n",
    "# Fit the model\n",
    "model = SARIMAXModel(order = (10,0,0))\n",
    "# model = ProphetModel()\n",
    "\n",
    "model.fit(train_ts)\n",
    "\n",
    "# Make the forecast\n",
    "future_ts = train_ts.make_future(HORIZON)\n",
    "forecast_ts = model.forecast(future_ts)\n",
    "\n",
    "print(test_ts)\n",
    "print(forecast_ts)\n",
    "\n",
    "plot_forecast(forecast_ts, test_ts, train_ts,  n_train_samples=200)\n",
    "\n",
    "plot_forecast(forecast_ts, train_ts,  n_train_samples=200)"
   ]
  },
  {
   "cell_type": "code",
   "execution_count": 1,
   "metadata": {
    "id": "nkWaGtwZPHTt"
   },
   "outputs": [
    {
     "ename": "ModuleNotFoundError",
     "evalue": "No module named 'etna'",
     "output_type": "error",
     "traceback": [
      "\u001b[0;31m---------------------------------------------------------------------------\u001b[0m",
      "\u001b[0;31mModuleNotFoundError\u001b[0m                       Traceback (most recent call last)",
      "\u001b[0;32m<ipython-input-1-735029836abf>\u001b[0m in \u001b[0;36m<module>\u001b[0;34m\u001b[0m\n\u001b[0;32m----> 1\u001b[0;31m \u001b[0;32mfrom\u001b[0m \u001b[0metna\u001b[0m\u001b[0;34m.\u001b[0m\u001b[0mmetrics\u001b[0m \u001b[0;32mimport\u001b[0m \u001b[0mRMSE\u001b[0m\u001b[0;34m\u001b[0m\u001b[0;34m\u001b[0m\u001b[0m\n\u001b[0m",
      "\u001b[0;31mModuleNotFoundError\u001b[0m: No module named 'etna'"
     ]
    }
   ],
   "source": [
    "from etna.metrics import RMSE"
   ]
  },
  {
   "cell_type": "code",
   "execution_count": null,
   "metadata": {
    "colab": {
     "base_uri": "https://localhost:8080/"
    },
    "id": "AmO6iVtSPO0M",
    "outputId": "ab992e7a-6754-488e-eab4-c85a20de2d04"
   },
   "outputs": [],
   "source": [
    "rmse = RMSE()\n",
    "# test_ts2 = test_ts\n",
    "# forecast_ts2 = forecast_ts[:20]\n",
    "rmse(y_true=test_ts, y_pred=forecast_ts)"
   ]
  },
  {
   "cell_type": "code",
   "execution_count": null,
   "metadata": {
    "id": "Snmcr9mwCR9k"
   },
   "outputs": [],
   "source": [
    "from etna.models import AutoARIMAModel"
   ]
  },
  {
   "cell_type": "code",
   "execution_count": null,
   "metadata": {
    "colab": {
     "base_uri": "https://localhost:8080/"
    },
    "id": "vVY3XY0EDOWb",
    "outputId": "7a6481fd-5c5b-4770-d7b1-31f3bbd7f3ab"
   },
   "outputs": [],
   "source": [
    "model = AutoARIMAModel()\n",
    "model.fit(train_ts)"
   ]
  },
  {
   "cell_type": "code",
   "execution_count": null,
   "metadata": {
    "colab": {
     "base_uri": "https://localhost:8080/",
     "height": 598
    },
    "id": "7QtWad4cEBep",
    "outputId": "f919f42b-6c5f-4e72-8896-e8966f75c589"
   },
   "outputs": [],
   "source": [
    "HORIZON = 100\n",
    "future_ts = train_ts.make_future(HORIZON)\n",
    "forecast_ts = model.forecast(future_ts)\n",
    "print(future_ts == forecast_ts)\n",
    "\n",
    "from etna.analysis import plot_forecast\n",
    "\n",
    "plot_forecast(forecast_ts, test_ts, train_ts, n_train_samples=300)"
   ]
  },
  {
   "cell_type": "code",
   "execution_count": null,
   "metadata": {
    "id": "qDZDKf-UsK9I"
   },
   "outputs": [],
   "source": [
    "from etna.models import ProphetModel"
   ]
  },
  {
   "cell_type": "code",
   "execution_count": null,
   "metadata": {
    "colab": {
     "base_uri": "https://localhost:8080/"
    },
    "id": "v1b1egUUsNkI",
    "outputId": "29c63ad2-3867-48ae-ea16-8174ac3afb4d"
   },
   "outputs": [],
   "source": [
    "print(train_ts)\n",
    "model = ProphetModel(growth = 'linear', changepoints = None, n_changepoints = 100, changepoint_range = 1, yearly_seasonality = 'auto', weekly_seasonality = True, daily_seasonality = 'auto', holidays = None, seasonality_mode = 'additive', seasonality_prior_scale = 10.0, holidays_prior_scale = 10.0, changepoint_prior_scale = 0.05, mcmc_samples = 0, interval_width = 0.8, uncertainty_samples = 1000, stan_backend = None)\n",
    "model.fit(train_ts)"
   ]
  },
  {
   "cell_type": "code",
   "execution_count": null,
   "metadata": {
    "colab": {
     "base_uri": "https://localhost:8080/"
    },
    "id": "dvFaGg1lsVb3",
    "outputId": "fff8a3d6-5cd3-4c1f-a381-fbd081a4d201"
   },
   "outputs": [],
   "source": [
    "HORIZON = 79\n",
    "future_ts = train_ts.make_future(HORIZON)\n",
    "forecast_ts = model.forecast(future_ts)"
   ]
  },
  {
   "cell_type": "code",
   "execution_count": null,
   "metadata": {
    "colab": {
     "base_uri": "https://localhost:8080/",
     "height": 1000
    },
    "id": "ZDvgNvxLsapn",
    "outputId": "79d0adef-52c6-4baa-df7a-3094752b1dc8"
   },
   "outputs": [],
   "source": [
    "from etna.analysis import plot_forecast\n",
    "\n",
    "print(forecast_ts)\n",
    "print(test_ts)\n",
    "plot_forecast(forecast_ts, test_ts, train_ts, n_train_samples=50)\n"
   ]
  },
  {
   "cell_type": "code",
   "execution_count": null,
   "metadata": {
    "colab": {
     "base_uri": "https://localhost:8080/"
    },
    "id": "RbEP5Q8rQdJ5",
    "outputId": "6267f231-ff42-43d4-8898-a44d22ddb823"
   },
   "outputs": [],
   "source": [
    "from etna.metrics import RMSE\n",
    "rmse = RMSE()\n",
    "# test_ts2 = test_ts\n",
    "# forecast_ts2 = forecast_ts[:20]\n",
    "rmse(y_true=test_ts, y_pred=forecast_ts)"
   ]
  },
  {
   "cell_type": "code",
   "execution_count": 2,
   "metadata": {
    "colab": {
     "base_uri": "https://localhost:8080/"
    },
    "id": "GJHhgxq1XBDa",
    "outputId": "eeb5bab5-6e88-494f-c8ae-7518a9294e3f"
   },
   "outputs": [
    {
     "ename": "NameError",
     "evalue": "name 'forecast_ts' is not defined",
     "output_type": "error",
     "traceback": [
      "\u001b[0;31m---------------------------------------------------------------------------\u001b[0m",
      "\u001b[0;31mNameError\u001b[0m                                 Traceback (most recent call last)",
      "\u001b[0;32m<ipython-input-2-dbfaf825f91b>\u001b[0m in \u001b[0;36m<module>\u001b[0;34m\u001b[0m\n\u001b[0;32m----> 1\u001b[0;31m \u001b[0mdf\u001b[0m \u001b[0;34m=\u001b[0m \u001b[0mforecast_ts\u001b[0m\u001b[0;34m.\u001b[0m\u001b[0mto_pandas\u001b[0m\u001b[0;34m(\u001b[0m\u001b[0;34m)\u001b[0m\u001b[0;34m\u001b[0m\u001b[0;34m\u001b[0m\u001b[0m\n\u001b[0m\u001b[1;32m      2\u001b[0m \u001b[0mprint\u001b[0m\u001b[0;34m(\u001b[0m\u001b[0mtype\u001b[0m\u001b[0;34m(\u001b[0m\u001b[0mdf\u001b[0m\u001b[0;34m)\u001b[0m\u001b[0;34m)\u001b[0m\u001b[0;34m\u001b[0m\u001b[0;34m\u001b[0m\u001b[0m\n\u001b[1;32m      3\u001b[0m \u001b[0mdf\u001b[0m\u001b[0;34m.\u001b[0m\u001b[0mcolumns\u001b[0m \u001b[0;34m=\u001b[0m \u001b[0;34m[\u001b[0m\u001b[0;34m'target'\u001b[0m\u001b[0;34m]\u001b[0m\u001b[0;34m\u001b[0m\u001b[0;34m\u001b[0m\u001b[0m\n\u001b[1;32m      4\u001b[0m \u001b[0mdf\u001b[0m\u001b[0;34m[\u001b[0m\u001b[0;34m'target'\u001b[0m\u001b[0;34m]\u001b[0m \u001b[0;34m=\u001b[0m \u001b[0mdf\u001b[0m\u001b[0;34m[\u001b[0m\u001b[0;34m'target'\u001b[0m\u001b[0;34m]\u001b[0m\u001b[0;34m.\u001b[0m\u001b[0mastype\u001b[0m\u001b[0;34m(\u001b[0m\u001b[0mfloat\u001b[0m\u001b[0;34m)\u001b[0m\u001b[0;34m\u001b[0m\u001b[0;34m\u001b[0m\u001b[0m\n\u001b[1;32m      5\u001b[0m \u001b[0mprint\u001b[0m\u001b[0;34m(\u001b[0m\u001b[0mdf\u001b[0m\u001b[0;34m[\u001b[0m\u001b[0;34m'target'\u001b[0m\u001b[0;34m]\u001b[0m\u001b[0;34m[\u001b[0m\u001b[0;36m0\u001b[0m\u001b[0;34m]\u001b[0m\u001b[0;34m)\u001b[0m\u001b[0;34m\u001b[0m\u001b[0;34m\u001b[0m\u001b[0m\n",
      "\u001b[0;31mNameError\u001b[0m: name 'forecast_ts' is not defined"
     ]
    }
   ],
   "source": [
    "df = forecast_ts.to_pandas()\n",
    "print(type(df))\n",
    "df.columns = ['target']\n",
    "df['target'] = df['target'].astype(float)\n",
    "print(df['target'][0])\n",
    "df['target'] = np.exp(df['target'])\n",
    "print(df)\n"
   ]
  },
  {
   "cell_type": "code",
   "execution_count": 3,
   "metadata": {
    "id": "Ra9kVyUHX4KZ"
   },
   "outputs": [
    {
     "ename": "ModuleNotFoundError",
     "evalue": "No module named 'etna'",
     "output_type": "error",
     "traceback": [
      "\u001b[0;31m---------------------------------------------------------------------------\u001b[0m",
      "\u001b[0;31mModuleNotFoundError\u001b[0m                       Traceback (most recent call last)",
      "\u001b[0;32m<ipython-input-3-57cacd372265>\u001b[0m in \u001b[0;36m<module>\u001b[0;34m\u001b[0m\n\u001b[1;32m      1\u001b[0m \u001b[0mHORIZON\u001b[0m \u001b[0;34m=\u001b[0m \u001b[0;36m200\u001b[0m\u001b[0;34m\u001b[0m\u001b[0;34m\u001b[0m\u001b[0m\n\u001b[0;32m----> 2\u001b[0;31m \u001b[0;32mfrom\u001b[0m \u001b[0metna\u001b[0m\u001b[0;34m.\u001b[0m\u001b[0mmodels\u001b[0m \u001b[0;32mimport\u001b[0m \u001b[0mNaiveModel\u001b[0m\u001b[0;34m\u001b[0m\u001b[0;34m\u001b[0m\u001b[0m\n\u001b[0m\u001b[1;32m      3\u001b[0m \u001b[0;34m\u001b[0m\u001b[0m\n\u001b[1;32m      4\u001b[0m \u001b[0;31m# Fit the model\u001b[0m\u001b[0;34m\u001b[0m\u001b[0;34m\u001b[0m\u001b[0;34m\u001b[0m\u001b[0m\n\u001b[1;32m      5\u001b[0m \u001b[0mmodel\u001b[0m \u001b[0;34m=\u001b[0m \u001b[0mNaiveModel\u001b[0m\u001b[0;34m(\u001b[0m\u001b[0mlag\u001b[0m\u001b[0;34m=\u001b[0m\u001b[0;36m20\u001b[0m\u001b[0;34m)\u001b[0m\u001b[0;34m\u001b[0m\u001b[0;34m\u001b[0m\u001b[0m\n",
      "\u001b[0;31mModuleNotFoundError\u001b[0m: No module named 'etna'"
     ]
    }
   ],
   "source": [
    "HORIZON = 200\n",
    "from etna.models import NaiveModel\n",
    "\n",
    "# Fit the model\n",
    "model = NaiveModel(lag=20)\n",
    "model.fit(train_ts)\n",
    "\n",
    "# Make the forecast\n",
    "future_ts = train_ts.make_future(future_steps=HORIZON, tail_steps=model.context_size)\n",
    "forecast_ts = model.forecast(future_ts, prediction_size=HORIZON)"
   ]
  },
  {
   "cell_type": "code",
   "execution_count": 4,
   "metadata": {
    "id": "f8NuFooFcrbT"
   },
   "outputs": [
    {
     "ename": "ModuleNotFoundError",
     "evalue": "No module named 'etna'",
     "output_type": "error",
     "traceback": [
      "\u001b[0;31m---------------------------------------------------------------------------\u001b[0m",
      "\u001b[0;31mModuleNotFoundError\u001b[0m                       Traceback (most recent call last)",
      "\u001b[0;32m<ipython-input-4-b8cdab88e543>\u001b[0m in \u001b[0;36m<module>\u001b[0;34m\u001b[0m\n\u001b[0;32m----> 1\u001b[0;31m \u001b[0;32mfrom\u001b[0m \u001b[0metna\u001b[0m\u001b[0;34m.\u001b[0m\u001b[0mmetrics\u001b[0m \u001b[0;32mimport\u001b[0m \u001b[0mSMAPE\u001b[0m\u001b[0;34m\u001b[0m\u001b[0;34m\u001b[0m\u001b[0m\n\u001b[0m",
      "\u001b[0;31mModuleNotFoundError\u001b[0m: No module named 'etna'"
     ]
    }
   ],
   "source": [
    "from etna.metrics import SMAPE"
   ]
  },
  {
   "cell_type": "code",
   "execution_count": 5,
   "metadata": {
    "id": "xUnbcN_udFc8"
   },
   "outputs": [
    {
     "ename": "ModuleNotFoundError",
     "evalue": "No module named 'etna'",
     "output_type": "error",
     "traceback": [
      "\u001b[0;31m---------------------------------------------------------------------------\u001b[0m",
      "\u001b[0;31mModuleNotFoundError\u001b[0m                       Traceback (most recent call last)",
      "\u001b[0;32m<ipython-input-5-39dd424260e1>\u001b[0m in \u001b[0;36m<module>\u001b[0;34m\u001b[0m\n\u001b[0;32m----> 1\u001b[0;31m \u001b[0;32mfrom\u001b[0m \u001b[0metna\u001b[0m\u001b[0;34m.\u001b[0m\u001b[0manalysis\u001b[0m \u001b[0;32mimport\u001b[0m \u001b[0mplot_forecast\u001b[0m\u001b[0;34m\u001b[0m\u001b[0;34m\u001b[0m\u001b[0m\n\u001b[0m",
      "\u001b[0;31mModuleNotFoundError\u001b[0m: No module named 'etna'"
     ]
    }
   ],
   "source": [
    "from etna.analysis import plot_forecast"
   ]
  },
  {
   "cell_type": "code",
   "execution_count": 6,
   "metadata": {
    "colab": {
     "base_uri": "https://localhost:8080/",
     "height": 528
    },
    "id": "_tOBxyYYdG7p",
    "outputId": "7660b92f-45f8-46a0-fc53-61e7601c6cfb"
   },
   "outputs": [
    {
     "ename": "NameError",
     "evalue": "name 'plot_forecast' is not defined",
     "output_type": "error",
     "traceback": [
      "\u001b[0;31m---------------------------------------------------------------------------\u001b[0m",
      "\u001b[0;31mNameError\u001b[0m                                 Traceback (most recent call last)",
      "\u001b[0;32m<ipython-input-6-e1c9c0011828>\u001b[0m in \u001b[0;36m<module>\u001b[0;34m\u001b[0m\n\u001b[0;32m----> 1\u001b[0;31m \u001b[0mplot_forecast\u001b[0m\u001b[0;34m(\u001b[0m\u001b[0mforecast_ts\u001b[0m\u001b[0;34m,\u001b[0m \u001b[0mtest_ts\u001b[0m\u001b[0;34m,\u001b[0m \u001b[0mtrain_ts\u001b[0m\u001b[0;34m,\u001b[0m \u001b[0mn_train_samples\u001b[0m\u001b[0;34m=\u001b[0m\u001b[0;36m100\u001b[0m\u001b[0;34m)\u001b[0m\u001b[0;34m\u001b[0m\u001b[0;34m\u001b[0m\u001b[0m\n\u001b[0m",
      "\u001b[0;31mNameError\u001b[0m: name 'plot_forecast' is not defined"
     ]
    }
   ],
   "source": [
    "plot_forecast(forecast_ts, test_ts, train_ts, n_train_samples=100)"
   ]
  }
 ],
 "metadata": {
  "colab": {
   "provenance": []
  },
  "kernelspec": {
   "display_name": "Python 3",
   "language": "python",
   "name": "python3"
  }
 },
 "nbformat": 4,
 "nbformat_minor": 1
}
